{
  "nbformat": 4,
  "nbformat_minor": 0,
  "metadata": {
    "colab": {
      "name": "Método Simplex.ipynb",
      "provenance": [],
      "collapsed_sections": []
    },
    "kernelspec": {
      "name": "python3",
      "display_name": "Python 3"
    }
  },
  "cells": [
    {
      "cell_type": "code",
      "metadata": {
        "id": "_xl9eXqvn6sg"
      },
      "source": [
        "import numpy as np\n",
        "from IPython.display import Math"
      ],
      "execution_count": 25,
      "outputs": []
    },
    {
      "cell_type": "code",
      "metadata": {
        "id": "TRvQqfjHEK7Y"
      },
      "source": [
        "class simplex:\n",
        "  s=[]\n",
        "  a=[]\n",
        "  ma_1=[]\n",
        "  def __init__(self,Z,m='max'):\n",
        "    self.tipo=m\n",
        "    self.s=[]\n",
        "    self.a=[]\n",
        "    self.ma_1=[]\n",
        "    Z.append(0)\n",
        "    F=-np.array(Z)\n",
        "    self.ma_1.append(F)\n",
        "\n",
        "\n",
        "  #Crear la matrix para simplex\n",
        "  def solvet(self):\n",
        "    if (max(self.a))>0:\n",
        "      ma=np.zeros((len(self.ma_1),len(self.ma_1[0])+2*len(self.s)+2))\n",
        "      ma[0][0]=1\n",
        "      for i in range(len(self.ma_1[0])-1):\n",
        "        for j in range(len(self.ma_1)):\n",
        "          ma[j][i+1]=self.ma_1[j][i]\n",
        "\n",
        "          if i==0:\n",
        "            ma[j][-1]=self.ma_1[j][-1]\n",
        "            if j>0:\n",
        "              ma[j][len(self.ma_1[0])+j]=self.s[j-1]\n",
        "              ma[j][len(self.ma_1[0])+len(self.s)+j]=self.a[j-1]\n",
        "    else:\n",
        "      ma=np.zeros((len(self.ma_1),len(self.ma_1[0])+len(self.s)+2))\n",
        "      ma[0][0]=1\n",
        "      for i in range(len(self.ma_1[0])-1):\n",
        "        for j in range(len(self.ma_1)):\n",
        "          ma[j][i+1]=self.ma_1[j][i]\n",
        "\n",
        "          if i==0:\n",
        "            ma[j][-1]=self.ma_1[j][-1]\n",
        "            if j>0:\n",
        "              ma[j][len(self.ma_1[0])+j]=self.s[j-1]\n",
        "    \n",
        "    return self.Itera_simplex(ma,len(self.ma_1[0])-1)\n",
        "\n",
        "  # Crea una restrincion \n",
        "  def add_res(self,matrix,tipo):\n",
        "    if tipo=='<':\n",
        "      self.s.append(1)\n",
        "      self.a.append(0)\n",
        "    elif tipo=='>':\n",
        "      self.s.append(-1)\n",
        "      self.a.append(1)\n",
        "    elif tipo=='=':\n",
        "      self.s.append(0)\n",
        "      self.a.append(1)\n",
        "    self.ma_1.append(matrix)\n",
        "\n",
        "  def Itera_simplex(self,tabla_simplex,n):\n",
        "    # tabla_simplex: matriz del método\n",
        "    # n: número de variables de deción\n",
        "    tabla_simplex = tabla_simplex.astype(np.float32)\n",
        "    if (tabla_simplex[0,1:n+1] >= 0).sum() == n: # pregunta si todas las variables son positivas\n",
        "      sol = []\n",
        "      for i in range(n+1):\n",
        "        index, = np.where(tabla_simplex[:,i] == 1) # guarda el index de la posición del 1 en la columna i \n",
        "        if type(index) != int: # el metodo where devuelve un arreglo en caso del elemento este repetido\n",
        "          index = index[0]\n",
        "        sol.append(tabla_simplex[index,-1]) # Agrega el valor del index en la columna de los resultados \n",
        "      return np.array(sol) #vector de salida array: [z,x_1,x_2,...,x_n]\n",
        "    else:\n",
        "      colum_pivote = np.argmin(tabla_simplex[0,1:n+1]) + 1 # guarda la columna de el más negativo de las x_i\n",
        "      menor = np.inf\n",
        "\n",
        "      # encuentra la fila  de el más pequeño de dividir la columna de los resultados entre la de la columna pivote\n",
        "      # desechando las diviciónes por 0 o números negativos  \n",
        "      for i in range(1,len(tabla_simplex[:,0])):\n",
        "        if tabla_simplex[i,colum_pivote] > 0:\n",
        "          if tabla_simplex[i,-1]/tabla_simplex[i,colum_pivote] < menor:\n",
        "            menor = tabla_simplex[i,-1]/tabla_simplex[i,colum_pivote]\n",
        "            fila_pivote = i \n",
        "\n",
        "      # divide la fila pivote por el pivote encontrado\n",
        "      tabla_simplex[fila_pivote,:] = tabla_simplex[fila_pivote,:]/(tabla_simplex[fila_pivote,colum_pivote])\n",
        "\n",
        "      # operaciónes de filas para hacer 0 los otros valores de la columna pivote\n",
        "      for i in range(len(tabla_simplex)):\n",
        "        if i != fila_pivote:\n",
        "          tabla_simplex[i,:] = tabla_simplex[i,:] - tabla_simplex[i,colum_pivote]*tabla_simplex[fila_pivote,:]\n",
        "      return Itera_simplex(tabla_simplex,n) # recursión del método"
      ],
      "execution_count": 30,
      "outputs": []
    },
    {
      "cell_type": "code",
      "metadata": {
        "id": "5Q1yAPQORBIU",
        "outputId": "d718cce7-783b-4790-ae29-b70ef7e92471",
        "colab": {
          "base_uri": "https://localhost:8080/",
          "height": 59
        }
      },
      "source": [
        "a=simplex([7,4])\n",
        "a.add_res([2,1,20],'<')\n",
        "a.add_res([1,1,18],'<')\n",
        "a.add_res([1,0,8],'<')\n",
        "d=a.solvet()\n",
        "\n",
        "for i,valor in enumerate(d[1:]):\n",
        "  display(Math('x_{} = {}'.format(i,valor)))\n"
      ],
      "execution_count": 33,
      "outputs": [
        {
          "output_type": "display_data",
          "data": {
            "text/latex": "$$x_0 = 8.0$$",
            "text/plain": [
              "<IPython.core.display.Math object>"
            ]
          },
          "metadata": {
            "tags": []
          }
        },
        {
          "output_type": "display_data",
          "data": {
            "text/latex": "$$x_1 = 4.0$$",
            "text/plain": [
              "<IPython.core.display.Math object>"
            ]
          },
          "metadata": {
            "tags": []
          }
        }
      ]
    }
  ]
}