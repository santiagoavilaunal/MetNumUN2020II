{
  "nbformat": 4,
  "nbformat_minor": 0,
  "metadata": {
    "colab": {
      "name": "Taylo_error.ipynb",
      "provenance": [],
      "collapsed_sections": []
    },
    "kernelspec": {
      "name": "python3",
      "display_name": "Python 3"
    }
  },
  "cells": [
    {
      "cell_type": "code",
      "metadata": {
        "id": "XEslyx_087Wm"
      },
      "source": [
        "import math"
      ],
      "execution_count": 15,
      "outputs": []
    },
    {
      "cell_type": "markdown",
      "metadata": {
        "id": "-3RtAFO2JkBE"
      },
      "source": [
        "$Error\\geq\\left|\\frac{f^{(n+1)}(\\epsilon)}{(n+1)!}(x-x_0)^{n+1}\\right|$\n",
        "\n",
        "\n",
        "Por lo que para $ln(x+1)$:\n",
        "\n",
        "$Error\\geq\\left|(-1)^{k}\\frac{x^{k+1}}{k+1}\\right|$"
      ]
    },
    {
      "cell_type": "code",
      "metadata": {
        "id": "nvDwrxWeJJ1v"
      },
      "source": [
        "def ln_1_taylor(x,epsilon):\n",
        "  f=0\n",
        "  if (x>1) and (x<=-1):\n",
        "    return \"none\"\n",
        "  delta = 1\n",
        "  k=1\n",
        "  while delta>=epsilon:\n",
        "    delta=((-1)**(k-1))*((x**(k))/(k))\n",
        "    f+=delta\n",
        "    delta=abs(delta)\n",
        "    k+=1\n",
        "  \n",
        "  return [f,delta,k-1]"
      ],
      "execution_count": 35,
      "outputs": []
    },
    {
      "cell_type": "code",
      "metadata": {
        "colab": {
          "base_uri": "https://localhost:8080/"
        },
        "id": "bbiZ7I6PM-XL",
        "outputId": "5198c796-bb59-485b-a139-0eb254bda5c0"
      },
      "source": [
        "l=ln_1_taylor(0.4,10**(-5))\n",
        "print(\"ln(1.4) tayor: {0}\".format(l[0]))\n",
        "print(\"ln(1.4): {0}\".format(math.log(1.4)))\n",
        "print(\"epsilon: 10^-5\")\n",
        "print(\"grado: {0}\".format(l[2]))"
      ],
      "execution_count": 45,
      "outputs": [
        {
          "output_type": "stream",
          "text": [
            "ln(1.4) tayor: 0.33647325816427126\n",
            "ln(1.4): 0.3364722366212129\n",
            "epsilon: 10^-5\n",
            "grado: 11\n"
          ],
          "name": "stdout"
        }
      ]
    },
    {
      "cell_type": "markdown",
      "metadata": {
        "id": "84AdluF6OFsf"
      },
      "source": [
        "Por lo que para $sin(x)$:\n",
        "\n",
        "$Error\\geq\\left|(-1)^{k+1}\\frac{x^{2k+3}}{(2k+3)!}\\right|$"
      ]
    },
    {
      "cell_type": "code",
      "metadata": {
        "id": "485pNvYfOrW0"
      },
      "source": [
        "def sin(x,epsilon):\n",
        "  f=0\n",
        "  if (x>1) and (x<=-1):\n",
        "    return \"none\"\n",
        "  delta = 1\n",
        "  k=0\n",
        "  while delta>=epsilon:\n",
        "    delta=((-1)**k)*((x**(2*k+1))/(math.factorial(2*k+1)))\n",
        "    f+=delta\n",
        "    delta=abs(delta)\n",
        "    k+=1\n",
        "  \n",
        "  return [f,delta,k-1]"
      ],
      "execution_count": 37,
      "outputs": []
    },
    {
      "cell_type": "code",
      "metadata": {
        "colab": {
          "base_uri": "https://localhost:8080/"
        },
        "id": "MZl-QtlXO1iv",
        "outputId": "6763979b-6c2d-4ccd-c0f7-1083866f5121"
      },
      "source": [
        "l=sin(10,10**(-10))\n",
        "print(\"sin(10) tayor: {0}\".format(l[0]))\n",
        "print(\"sin(10): {0}\".format(math.sin(10)))\n",
        "print(\"epsilon: 10^-10\")\n",
        "print(\"grado: {0}\".format(l[2]))"
      ],
      "execution_count": 44,
      "outputs": [
        {
          "output_type": "stream",
          "text": [
            "sin(10) tayor: -0.544021110888899\n",
            "sin(10): -0.5440211108893698\n",
            "epsilon: 10^-10\n",
            "grado: 22\n"
          ],
          "name": "stdout"
        }
      ]
    }
  ]
}