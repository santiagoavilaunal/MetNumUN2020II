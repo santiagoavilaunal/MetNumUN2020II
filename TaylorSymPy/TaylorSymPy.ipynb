{
  "nbformat": 4,
  "nbformat_minor": 0,
  "metadata": {
    "colab": {
      "name": "TaylorSymPy.ipynb",
      "provenance": [],
      "collapsed_sections": []
    },
    "kernelspec": {
      "name": "python3",
      "display_name": "Python 3"
    }
  },
  "cells": [
    {
      "cell_type": "markdown",
      "metadata": {
        "id": "GjV4slZMSl8P"
      },
      "source": [
        "##<h1 align=\"center\">Series de Taylor 1</h1>\n",
        "---\n",
        "Una serie de Taylor, esa una sumatoria de los términos polinomiales con el objetivo de aproximar una función.\n",
        "${e^x} \\approx \\sum\\limits_{n = 0}^\\infty  {\\frac{{{x^n}}}{{n!}}} \\approx 1 + x + \\frac{{{x^2}}}{{2!}} + \\frac{{{x^3}}}{{3!}} + \\frac{{{x^4}}}{{4!}} \\ + \\ ...$\n",
        "\n"
      ]
    },
    {
      "cell_type": "code",
      "metadata": {
        "id": "mOOuhqfRShuN"
      },
      "source": [
        "import math as mt\n",
        "from IPython.display import Math\n",
        "import numpy as np\n",
        "import matplotlib.pyplot as plt"
      ],
      "execution_count": null,
      "outputs": []
    },
    {
      "cell_type": "code",
      "metadata": {
        "id": "4eUCEg5tXoK3"
      },
      "source": [
        "#e^2\n",
        "\n",
        "def exp_tylor(x,n):\n",
        "  f=0.0\n",
        "  latex=''\n",
        "  for i in range(n):\n",
        "    f=f+(x**i)/mt.factorial(i)\n",
        "    if i<n-1:\n",
        "      latex=latex+r'\\frac{x^'+str(i)+'}{!'+str(i)+'}+'\n",
        "    else:\n",
        "      latex=latex+r'\\frac{x^'+str(i)+'}{!'+str(i)+'}'\n",
        "\n",
        "  latex='e^{0}'.format(x)+r' \\approx '+latex+'={}'.format(f)\n",
        "  \n",
        "  return [f,latex]"
      ],
      "execution_count": null,
      "outputs": []
    },
    {
      "cell_type": "code",
      "metadata": {
        "id": "MwCm9-f0eUwO",
        "outputId": "5b722256-902f-450e-bd23-3cd82c64fb46",
        "colab": {
          "base_uri": "https://localhost:8080/",
          "height": 61
        }
      },
      "source": [
        "display(Math('e^2={0}'.format(mt.exp(2))))\n",
        "display(Math(exp_tylor(2,4)[1]))"
      ],
      "execution_count": null,
      "outputs": [
        {
          "output_type": "display_data",
          "data": {
            "text/latex": "$$e^2=7.38905609893065$$",
            "text/plain": [
              "<IPython.core.display.Math object>"
            ]
          },
          "metadata": {
            "tags": []
          }
        },
        {
          "output_type": "display_data",
          "data": {
            "text/latex": "$$e^2 \\approx \\frac{x^0}{!0}+\\frac{x^1}{!1}+\\frac{x^2}{!2}+\\frac{x^3}{!3}=6.333333333333333$$",
            "text/plain": [
              "<IPython.core.display.Math object>"
            ]
          },
          "metadata": {
            "tags": []
          }
        }
      ]
    },
    {
      "cell_type": "markdown",
      "metadata": {
        "id": "vYM6D1IlfyTP"
      },
      "source": [
        "Como se puede notar entre mas grande sea $n$, mejor aproximacion tendra a la funcion real en este caso $e^x$"
      ]
    },
    {
      "cell_type": "code",
      "metadata": {
        "id": "Xv25FIk4gDDT",
        "outputId": "6d9e69e7-1ee2-4b0d-a8b8-0d55f721e59d",
        "colab": {
          "base_uri": "https://localhost:8080/",
          "height": 208
        }
      },
      "source": [
        "\n",
        "e5=mt.exp(5)\n",
        "display(Math('e^5={0}'.format(e5)))\n",
        "for i in range(5,15):\n",
        "  f=exp_tylor(5,i)[0]\n",
        "  error=abs(f-e5)\n",
        "  print('n={0}: la expresión de tylor es: {1} , con un error de: {2}'.format(i,f,error))\n"
      ],
      "execution_count": null,
      "outputs": [
        {
          "output_type": "display_data",
          "data": {
            "text/latex": "$$e^5=148.4131591025766$$",
            "text/plain": [
              "<IPython.core.display.Math object>"
            ]
          },
          "metadata": {
            "tags": []
          }
        },
        {
          "output_type": "stream",
          "text": [
            "n=5: la expresión de tylor es: 65.375 , con un error de: 83.0381591025766\n",
            "n=6: la expresión de tylor es: 91.41666666666667 , con un error de: 56.99649243590993\n",
            "n=7: la expresión de tylor es: 113.11805555555556 , con un error de: 35.29510354702104\n",
            "n=8: la expresión de tylor es: 128.61904761904762 , con un error de: 19.79411148352898\n",
            "n=9: la expresión de tylor es: 138.30716765873015 , con un error de: 10.105991443846449\n",
            "n=10: la expresión de tylor es: 143.68945656966488 , con un error de: 4.723702532911716\n",
            "n=11: la expresión de tylor es: 146.38060102513225 , con un error de: 2.0325580774443495\n",
            "n=12: la expresión de tylor es: 147.60384850489015 , con un error de: 0.8093105976864479\n",
            "n=13: la expresión de tylor es: 148.1135349547893 , con un error de: 0.2996241477873127\n",
            "n=14: la expresión de tylor es: 148.3095682047505 , con un error de: 0.10359089782610909\n"
          ],
          "name": "stdout"
        }
      ]
    },
    {
      "cell_type": "markdown",
      "metadata": {
        "id": "BDSRZA5ekP6f"
      },
      "source": [
        "Hola aproximaremos la expreción de $e^5$ con una precisión de 8 dígitos decimales."
      ]
    },
    {
      "cell_type": "code",
      "metadata": {
        "id": "g2yMNd0iiCph",
        "outputId": "5e27f968-e376-44d1-c116-f13f35602528",
        "colab": {
          "base_uri": "https://localhost:8080/",
          "height": 91
        }
      },
      "source": [
        "e5=mt.exp(5)\n",
        "f= 1 if 0==e5 else 0\n",
        "i=1\n",
        "while abs(f-e5)>10**(-8):\n",
        "  f=exp_tylor(5,i)[0]\n",
        "  i+=1\n",
        "\n",
        "display(Math('e^5={0}'.format(e5)))\n",
        "display(Math(r'e^5 \\approx \\displaystyle \\sum_{i=0}^{'+str(i)+r'} \\frac{5^i}{!i}='+str(f)))"
      ],
      "execution_count": null,
      "outputs": [
        {
          "output_type": "display_data",
          "data": {
            "text/latex": "$$e^5=148.4131591025766$$",
            "text/plain": [
              "<IPython.core.display.Math object>"
            ]
          },
          "metadata": {
            "tags": []
          }
        },
        {
          "output_type": "display_data",
          "data": {
            "text/latex": "$$e^5 \\approx \\displaystyle \\sum_{i=0}^{27} \\frac{5^i}{!i}=148.41315909805004$$",
            "text/plain": [
              "<IPython.core.display.Math object>"
            ]
          },
          "metadata": {
            "tags": []
          }
        }
      ]
    },
    {
      "cell_type": "markdown",
      "metadata": {
        "id": "GgD9Oc2AlWdK"
      },
      "source": [
        "Ahora aproximaremos la funcion $cos(x)$\n",
        "\n",
        "$\\cos \\left( x \\right) \\approx \\sum\\limits_{n = 0}^\\infty  {{{\\left( { - 1} \\right)}^n}\\frac{{{x^{2n}}}}{{\\left( {2n} \\right)!}}}  \\approx 1 - \\frac{{{x^2}}}{{2!}} + \\frac{{{x^4}}}{{4!}} - \\frac{{{x^6}}}{{6!}} + \\frac{{{x^8}}}{{8!}} - \\frac{{{x^{10}}}}{{10!}} \\ + \\ ...$"
      ]
    },
    {
      "cell_type": "code",
      "metadata": {
        "id": "fvAn_Kd8lj-u"
      },
      "source": [
        "\n",
        "def cos_taylo(x,n):\n",
        "  f=0\n",
        "  for i in range(n):\n",
        "    f+=((-1)**(i))*((x**(2*i))/(mt.factorial(2*i)))\n",
        "\n",
        "  return f"
      ],
      "execution_count": null,
      "outputs": []
    },
    {
      "cell_type": "code",
      "metadata": {
        "id": "v4HAWFDamcPi",
        "outputId": "3d648ccb-6b18-48e5-c8e8-37dbe1072c84",
        "colab": {
          "base_uri": "https://localhost:8080/",
          "height": 269
        }
      },
      "source": [
        "angulos = np.arange(-2*np.pi,2*np.pi,0.1)\n",
        "p_cos = np.cos(angulos)\n",
        "\n",
        "fig, ax = plt.subplots()\n",
        "ax.plot(angulos,p_cos)\n",
        "\n",
        "\n",
        "for i in range(1,6):\n",
        "    f_cos = [cos_taylo(angulo,i) for angulo in angulos]\n",
        "    ax.plot(angulos,f_cos)\n",
        "\n",
        "ax.set_ylim([-7,4])\n",
        "\n",
        "\n",
        "legend_lst = ['cos() function']\n",
        "for i in range(1,6):\n",
        "    legend_lst.append(f'Serie Taylor con - {i} terminos')\n",
        "ax.legend(legend_lst, loc=3)\n",
        "ax.grid('on')\n",
        "\n",
        "plt.show()"
      ],
      "execution_count": null,
      "outputs": [
        {
          "output_type": "display_data",
          "data": {
            "image/png": "[encoded data removed]",
            "text/plain": [
              "<Figure size 432x288 with 1 Axes>"
            ]
          },
          "metadata": {
            "tags": [],
            "needs_background": "light"
          }
        }
      ]
    },
    {
      "cell_type": "markdown",
      "metadata": {
        "id": "tfpeHc_z5Ga6"
      },
      "source": [
        "En la siguiente se calcula la aproximación mediante la serie de Taylor para la siguientes funciones : \n",
        "\n",
        "<center>$sin(x)=\\displaystyle \\sum_{k=0}^{\\infty} (-1)^k\\frac{x^{2k+1}}{(2k+1)!}$\n",
        "\n",
        "<center>$\\frac{1}{1-x}=\\displaystyle \\sum_{k=0}^{\\infty}x^k$\n",
        "<center>$ln(1+x)=\\displaystyle \\sum_{k=1}^{\\infty}(-1)^{k-1}\\frac{x^k}{k}$\n",
        "<center>$ln(x)=\\displaystyle \\sum_{k=1}^{\\infty}(-1)^{k-1}\\frac{(x-1)^k}{k}$\n"
      ]
    },
    {
      "cell_type": "code",
      "metadata": {
        "id": "8oohPJ4S6y9Q"
      },
      "source": [
        "#sin(x)\n",
        "def sin_taylo(x,n):\n",
        "  f=0\n",
        "  for k in range(n):\n",
        "    f+=((-1)**k)*((x**(2*k+1))/(mt.factorial(2*k+1)))\n",
        "  \n",
        "  return f\n",
        "\n",
        "#1/(1-x)\n",
        "def f_1_taylor(x,n):\n",
        "  if (abs(x)>=1):\n",
        "    return \"none\"\n",
        "  f=0\n",
        "  for k in range(n):\n",
        "    f+=x**k\n",
        "  \n",
        "  return f\n",
        "\n",
        "#ln(1+x)\n",
        "def ln_1_taylor(x,n):\n",
        "  f=0\n",
        "  if (x>1) and (x<=-1):\n",
        "    return \"none\"\n",
        "\n",
        "  for k in range(1,n):\n",
        "    f+=((-1)**(k-1))*((x**(k))/(k))\n",
        "  \n",
        "  return f\n",
        "\n",
        "#ln(x)\n",
        "def ln_taylor(x,n):\n",
        "  f=0\n",
        "  for k in range(1,n):\n",
        "    f+=((-1)**(k-1))*(((x-1)**(k))/(k))\n",
        "  \n",
        "  return f\n"
      ],
      "execution_count": null,
      "outputs": []
    },
    {
      "cell_type": "code",
      "metadata": {
        "id": "xHGMaYGf9S-D",
        "outputId": "297ae8e6-44e8-4b9c-ca88-14972278f087",
        "colab": {
          "base_uri": "https://localhost:8080/"
        }
      },
      "source": [
        "print('La funcion sin(pi/3): {0}, y la serie de taylor con 20 teminos es: {1}'.format(mt.sin(mt.pi/3),sin_taylo(mt.pi/3,20)))\n",
        "print('La funcion 1/(1-0.25): {0}, y la serie de taylor con 20 teminos es: {1}'.format(1/(1-0.25),f_1_taylor(0.25,20)))\n",
        "print('La funcion ln(1+0.33): {0}, y la serie de taylor con 20 teminos es: {1}'.format(mt.log(1+0.33),ln_1_taylor(0.33,20)))\n",
        "print('La funcion ln(2): {0}, y la serie de taylor con 200 teminos es: {1}'.format(mt.log(2),ln_taylor(2,200)))"
      ],
      "execution_count": null,
      "outputs": [
        {
          "output_type": "stream",
          "text": [
            "La funcion sin(pi/3): 0.8660254037844386, y la serie de taylor con 20 teminos es: 0.8660254037844385\n",
            "La funcion 1/(1-0.25): 1.3333333333333333, y la serie de taylor con 20 teminos es: 1.3333333333321207\n",
            "La funcion ln(1+0.33): 0.28517894223366247, y la serie de taylor con 20 teminos es: 0.2851789422425876\n",
            "La funcion ln(2): 0.6931471805599453, y la serie de taylor con 200 teminos es: 0.6956534304818243\n"
          ],
          "name": "stdout"
        }
      ]
    }
  ]
}